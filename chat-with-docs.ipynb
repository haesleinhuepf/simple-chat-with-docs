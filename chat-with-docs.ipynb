{
 "cells": [
  {
   "cell_type": "markdown",
   "id": "86de0896-124c-4959-a870-24d61aeec369",
   "metadata": {},
   "source": [
    "# Simple chat with docs"
   ]
  },
  {
   "cell_type": "code",
   "execution_count": null,
   "id": "4ac787b3-cefb-4bd3-8175-c7a810975911",
   "metadata": {},
   "outputs": [],
   "source": [
    "from llama_index.core import VectorStoreIndex, SimpleDirectoryReader\n",
    "import ipywidgets as widgets\n",
    "from IPython.display import display"
   ]
  },
  {
   "cell_type": "code",
   "execution_count": null,
   "id": "dcb167a0-3359-48b0-a3e3-0d1c875046da",
   "metadata": {},
   "outputs": [],
   "source": [
    "local_model = False # todo: the following does't work.\n",
    "if local_model:\n",
    "    # llama-index-embeddings-huggingface llama-index-llms-ollama\n",
    "    from llama_index.core import Settings\n",
    "    from llama_index.embeddings.huggingface import HuggingFaceEmbedding\n",
    "    from llama_index.llms.ollama import Ollama\n",
    "    \n",
    "    # bge-base embedding model\n",
    "    Settings.embed_model = HuggingFaceEmbedding(model_name=\"BAAI/bge-base-en-v1.5\")\n",
    "    \n",
    "    # ollama\n",
    "    Settings.llm = Ollama(model=\"llama3\", request_timeout=360.0)"
   ]
  },
  {
   "cell_type": "code",
   "execution_count": null,
   "id": "9997cb9b-ea5a-4e0e-afef-1f42ac2e01be",
   "metadata": {},
   "outputs": [],
   "source": [
    "class Chat():\n",
    "    def __init__(self):\n",
    "        self.former_folder = None\n",
    "        \n",
    "    def load(self, folder):\n",
    "        if self.former_folder == folder:\n",
    "            return len(self.documents)\n",
    "        self.former_folder = folder\n",
    "        \n",
    "        documents = SimpleDirectoryReader(folder).load_data()\n",
    "        index = VectorStoreIndex.from_documents(documents)\n",
    "        self.query_engine = index.as_query_engine()\n",
    "        self.documents = documents\n",
    "        return len(documents)\n",
    "        \n",
    "    def query(self, question):\n",
    "        return self.query_engine.query(question)"
   ]
  },
  {
   "cell_type": "code",
   "execution_count": null,
   "id": "95f23057-ab49-4308-b053-7bcb903e075b",
   "metadata": {},
   "outputs": [],
   "source": [
    "# Create widgets\n",
    "output_label = widgets.HTML(value=\"\")\n",
    "\n",
    "docs_input = widgets.Text(value=\"docs\", placeholder=\"Enter a directory here\")\n",
    "load_button = widgets.Button(description=\"Load\")\n",
    "\n",
    "text_input = widgets.Text(value=\"What is the document about?\", placeholder=\"Enter a question here\")\n",
    "submit_button = widgets.Button(description=\"Submit\")\n",
    "\n",
    "chat = Chat()\n",
    "\n",
    "def on_load(e):    \n",
    "    number_of_documents = chat.load(docs_input.value)\n",
    "    output_label.value = f\"\"\"\n",
    "    <div style='text-align:left; color: darkgrey; font-size: 20px'>{number_of_documents} documents loaded.</div>\n",
    "    \"\"\"\n",
    "\n",
    "def on_submit(e):\n",
    "    question = text_input.value\n",
    "    if len(question) == 0:\n",
    "        return\n",
    "    text_input.value = \"\"\n",
    "\n",
    "    # submit prompt to LLM\n",
    "    answer = chat.query(question)\n",
    "\n",
    "    # Append question and answer to the existing HTML content\n",
    "    output_label.value += f\"\"\"\n",
    "    <div style='text-align:right; color: blue; font-size: 20px'>{question}</div>\n",
    "    <div style='text-align:left; color: darkgreen; font-size: 20px'>{answer}</div>\n",
    "    \"\"\"\n",
    "\n",
    "# Attach the event handler to the text field and the button\n",
    "docs_input.continuous_update = False\n",
    "docs_input.observe(on_load)\n",
    "load_button.on_click(on_load)\n",
    "\n",
    "text_input.continuous_update = False\n",
    "text_input.observe(on_submit)\n",
    "submit_button.on_click(on_submit)\n",
    "\n",
    "# Arrange the widgets for display\n",
    "display(widgets.HBox([docs_input, load_button]), output_label, widgets.HBox([text_input, submit_button]))"
   ]
  },
  {
   "cell_type": "code",
   "execution_count": null,
   "id": "4eb80437-bc36-40c6-aaab-a523d8f4a53a",
   "metadata": {},
   "outputs": [],
   "source": []
  }
 ],
 "metadata": {
  "kernelspec": {
   "display_name": "Python 3 (ipykernel)",
   "language": "python",
   "name": "python3"
  },
  "language_info": {
   "codemirror_mode": {
    "name": "ipython",
    "version": 3
   },
   "file_extension": ".py",
   "mimetype": "text/x-python",
   "name": "python",
   "nbconvert_exporter": "python",
   "pygments_lexer": "ipython3",
   "version": "3.11.9"
  }
 },
 "nbformat": 4,
 "nbformat_minor": 5
}
